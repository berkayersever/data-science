{
  "nbformat": 4,
  "nbformat_minor": 0,
  "metadata": {
    "colab": {
      "name": "berkay_ersever_indv_proj.ipynb",
      "version": "0.3.2",
      "provenance": [],
      "collapsed_sections": []
    },
    "kernelspec": {
      "name": "python3",
      "display_name": "Python 3"
    },
    "accelerator": "GPU"
  },
  "cells": [
    {
      "metadata": {
        "id": "pLHzceXgWYCE",
        "colab_type": "text"
      },
      "cell_type": "markdown",
      "source": [
        "# Berkay Ersever 19626"
      ]
    },
    {
      "metadata": {
        "id": "KH2j0KsRNQcQ",
        "colab_type": "code",
        "colab": {}
      },
      "cell_type": "code",
      "source": [
        "!pip install reverse_geocoder\n",
        "!pip install geopy"
      ],
      "execution_count": 0,
      "outputs": []
    },
    {
      "metadata": {
        "colab_type": "code",
        "id": "qKUjjOuVA-Hs",
        "colab": {}
      },
      "cell_type": "code",
      "source": [
        "%matplotlib inline\n",
        "import pandas as pd\n",
        "import numpy as np\n",
        "import matplotlib.pyplot as plt\n",
        "from scipy import stats\n",
        "import reverse_geocoder as rg\n",
        "from geopy.distance import geodesic\n",
        "from datetime import datetime\n",
        "import seaborn as sns\n",
        "import warnings\n",
        "warnings.filterwarnings('ignore')\n",
        "sns.set(style='darkgrid')"
      ],
      "execution_count": 0,
      "outputs": []
    },
    {
      "metadata": {
        "id": "I6y1AjRGFisL",
        "colab_type": "code",
        "colab": {}
      },
      "cell_type": "code",
      "source": [
        "url = 'https://github.com/berkayersever/data-science/blob/master/data/taxi-trips.csv?raw=true'\n",
        "df = pd.read_csv(url)"
      ],
      "execution_count": 0,
      "outputs": []
    },
    {
      "metadata": {
        "id": "vRu_kNbjK-xe",
        "colab_type": "text"
      },
      "cell_type": "markdown",
      "source": [
        "# Shape"
      ]
    },
    {
      "metadata": {
        "id": "2j_u485uE7zB",
        "colab_type": "code",
        "outputId": "9760c2d6-6c68-41e0-e82c-3a9408308d0f",
        "colab": {
          "base_uri": "https://localhost:8080/",
          "height": 34
        }
      },
      "cell_type": "code",
      "source": [
        "n_rows, n_columns = df.shape  # get the shape of dataframe\n",
        "print(\"Number of Rows: {}, Number of Columns: {}\".format(n_rows, n_columns))\n",
        "column_list = list(df.columns.values)\n",
        "# for i in range(n_columns):\n",
        "#     print(column_list[i])"
      ],
      "execution_count": 0,
      "outputs": [
        {
          "output_type": "stream",
          "text": [
            "Number of Rows: 118185, Number of Columns: 11\n"
          ],
          "name": "stdout"
        }
      ]
    },
    {
      "metadata": {
        "id": "G5XexTcaTOyU",
        "colab_type": "text"
      },
      "cell_type": "markdown",
      "source": [
        "#Data Types"
      ]
    },
    {
      "metadata": {
        "id": "IPSju_rbGHb6",
        "colab_type": "code",
        "outputId": "46738c18-ef3f-4883-8000-41cdfd2dddf7",
        "colab": {
          "base_uri": "https://localhost:8080/",
          "height": 221
        }
      },
      "cell_type": "code",
      "source": [
        "df.dtypes"
      ],
      "execution_count": 0,
      "outputs": [
        {
          "output_type": "execute_result",
          "data": {
            "text/plain": [
              "id                     object\n",
              "vendor_id               int64\n",
              "pickup_datetime        object\n",
              "dropoff_datetime       object\n",
              "passenger_count         int64\n",
              "pickup_longitude      float64\n",
              "pickup_latitude       float64\n",
              "dropoff_longitude     float64\n",
              "dropoff_latitude      float64\n",
              "store_and_fwd_flag     object\n",
              "trip_duration           int64\n",
              "dtype: object"
            ]
          },
          "metadata": {
            "tags": []
          },
          "execution_count": 10
        }
      ]
    },
    {
      "metadata": {
        "id": "heX0TA7iLYCP",
        "colab_type": "code",
        "colab": {}
      },
      "cell_type": "code",
      "source": [
        "df = df[['id', 'vendor_id', 'pickup_datetime', 'dropoff_datetime', 'passenger_count', 'pickup_longitude', 'pickup_latitude', 'dropoff_longitude', 'dropoff_latitude', 'trip_duration']]\n",
        "print(df)"
      ],
      "execution_count": 0,
      "outputs": []
    },
    {
      "metadata": {
        "id": "I7QcG307GNs3",
        "colab_type": "code",
        "colab": {}
      },
      "cell_type": "code",
      "source": [
        "df.isnull().sum()"
      ],
      "execution_count": 0,
      "outputs": []
    },
    {
      "metadata": {
        "id": "B-yg6qMJGPC3",
        "colab_type": "code",
        "colab": {}
      },
      "cell_type": "code",
      "source": [
        "na_ratios = df.isnull().sum() / n_rows  # finding the NaN value ratio of each column\n",
        "                                        # it returns a series object with column names as indices\n",
        "print(na_ratios)"
      ],
      "execution_count": 0,
      "outputs": []
    },
    {
      "metadata": {
        "id": "RIUtnFPe3NYV",
        "colab_type": "code",
        "colab": {}
      },
      "cell_type": "code",
      "source": [
        "print(df)"
      ],
      "execution_count": 0,
      "outputs": []
    },
    {
      "metadata": {
        "id": "EtwJ6YHX3Nl7",
        "colab_type": "code",
        "colab": {}
      },
      "cell_type": "code",
      "source": [
        "enron_df = pd.DataFrame(df)\n",
        "count = enron_df['store_and_fwd_flag'].eq('N').sum()\n",
        "print(count)"
      ],
      "execution_count": 0,
      "outputs": []
    },
    {
      "metadata": {
        "id": "5cqXp22Z_R0A",
        "colab_type": "code",
        "colab": {}
      },
      "cell_type": "code",
      "source": [
        "df.isnull().sum()"
      ],
      "execution_count": 0,
      "outputs": []
    },
    {
      "metadata": {
        "id": "oM6UpoZ-ReMw",
        "colab_type": "code",
        "colab": {}
      },
      "cell_type": "code",
      "source": [
        "df.head()"
      ],
      "execution_count": 0,
      "outputs": []
    },
    {
      "metadata": {
        "id": "E42niqMmRqYK",
        "colab_type": "code",
        "colab": {}
      },
      "cell_type": "code",
      "source": [
        "df.info()"
      ],
      "execution_count": 0,
      "outputs": []
    },
    {
      "metadata": {
        "id": "jOuSrAQtSLFt",
        "colab_type": "code",
        "outputId": "4ce5d195-b17f-4b76-c2ac-ceed54110002",
        "colab": {
          "base_uri": "https://localhost:8080/",
          "height": 317
        }
      },
      "cell_type": "code",
      "source": [
        "df.describe()"
      ],
      "execution_count": 0,
      "outputs": [
        {
          "output_type": "execute_result",
          "data": {
            "text/html": [
              "<div>\n",
              "<style scoped>\n",
              "    .dataframe tbody tr th:only-of-type {\n",
              "        vertical-align: middle;\n",
              "    }\n",
              "\n",
              "    .dataframe tbody tr th {\n",
              "        vertical-align: top;\n",
              "    }\n",
              "\n",
              "    .dataframe thead th {\n",
              "        text-align: right;\n",
              "    }\n",
              "</style>\n",
              "<table border=\"1\" class=\"dataframe\">\n",
              "  <thead>\n",
              "    <tr style=\"text-align: right;\">\n",
              "      <th></th>\n",
              "      <th>vendor_id</th>\n",
              "      <th>passenger_count</th>\n",
              "      <th>pickup_longitude</th>\n",
              "      <th>pickup_latitude</th>\n",
              "      <th>dropoff_longitude</th>\n",
              "      <th>dropoff_latitude</th>\n",
              "      <th>trip_duration</th>\n",
              "    </tr>\n",
              "  </thead>\n",
              "  <tbody>\n",
              "    <tr>\n",
              "      <th>count</th>\n",
              "      <td>118185.000000</td>\n",
              "      <td>118185.000000</td>\n",
              "      <td>118185.000000</td>\n",
              "      <td>118185.000000</td>\n",
              "      <td>118185.000000</td>\n",
              "      <td>118185.000000</td>\n",
              "      <td>118185.000000</td>\n",
              "    </tr>\n",
              "    <tr>\n",
              "      <th>mean</th>\n",
              "      <td>1.534958</td>\n",
              "      <td>1.657148</td>\n",
              "      <td>-73.973971</td>\n",
              "      <td>40.751392</td>\n",
              "      <td>-73.973538</td>\n",
              "      <td>40.752212</td>\n",
              "      <td>927.186310</td>\n",
              "    </tr>\n",
              "    <tr>\n",
              "      <th>std</th>\n",
              "      <td>0.498779</td>\n",
              "      <td>1.313844</td>\n",
              "      <td>0.040456</td>\n",
              "      <td>0.027958</td>\n",
              "      <td>0.039192</td>\n",
              "      <td>0.032284</td>\n",
              "      <td>3118.710246</td>\n",
              "    </tr>\n",
              "    <tr>\n",
              "      <th>min</th>\n",
              "      <td>1.000000</td>\n",
              "      <td>0.000000</td>\n",
              "      <td>-79.487900</td>\n",
              "      <td>40.225803</td>\n",
              "      <td>-79.487900</td>\n",
              "      <td>40.225800</td>\n",
              "      <td>1.000000</td>\n",
              "    </tr>\n",
              "    <tr>\n",
              "      <th>25%</th>\n",
              "      <td>1.000000</td>\n",
              "      <td>1.000000</td>\n",
              "      <td>-73.991875</td>\n",
              "      <td>40.737835</td>\n",
              "      <td>-73.991394</td>\n",
              "      <td>40.736462</td>\n",
              "      <td>393.000000</td>\n",
              "    </tr>\n",
              "    <tr>\n",
              "      <th>50%</th>\n",
              "      <td>2.000000</td>\n",
              "      <td>1.000000</td>\n",
              "      <td>-73.981796</td>\n",
              "      <td>40.754501</td>\n",
              "      <td>-73.979759</td>\n",
              "      <td>40.754848</td>\n",
              "      <td>652.000000</td>\n",
              "    </tr>\n",
              "    <tr>\n",
              "      <th>75%</th>\n",
              "      <td>2.000000</td>\n",
              "      <td>2.000000</td>\n",
              "      <td>-73.967575</td>\n",
              "      <td>40.768471</td>\n",
              "      <td>-73.962990</td>\n",
              "      <td>40.770077</td>\n",
              "      <td>1048.000000</td>\n",
              "    </tr>\n",
              "    <tr>\n",
              "      <th>max</th>\n",
              "      <td>2.000000</td>\n",
              "      <td>6.000000</td>\n",
              "      <td>-73.425018</td>\n",
              "      <td>41.292198</td>\n",
              "      <td>-73.055977</td>\n",
              "      <td>41.292198</td>\n",
              "      <td>86366.000000</td>\n",
              "    </tr>\n",
              "  </tbody>\n",
              "</table>\n",
              "</div>"
            ],
            "text/plain": [
              "           vendor_id  passenger_count  pickup_longitude  pickup_latitude  \\\n",
              "count  118185.000000    118185.000000     118185.000000    118185.000000   \n",
              "mean        1.534958         1.657148        -73.973971        40.751392   \n",
              "std         0.498779         1.313844          0.040456         0.027958   \n",
              "min         1.000000         0.000000        -79.487900        40.225803   \n",
              "25%         1.000000         1.000000        -73.991875        40.737835   \n",
              "50%         2.000000         1.000000        -73.981796        40.754501   \n",
              "75%         2.000000         2.000000        -73.967575        40.768471   \n",
              "max         2.000000         6.000000        -73.425018        41.292198   \n",
              "\n",
              "       dropoff_longitude  dropoff_latitude  trip_duration  \n",
              "count      118185.000000     118185.000000  118185.000000  \n",
              "mean          -73.973538         40.752212     927.186310  \n",
              "std             0.039192          0.032284    3118.710246  \n",
              "min           -79.487900         40.225800       1.000000  \n",
              "25%           -73.991394         40.736462     393.000000  \n",
              "50%           -73.979759         40.754848     652.000000  \n",
              "75%           -73.962990         40.770077    1048.000000  \n",
              "max           -73.055977         41.292198   86366.000000  "
            ]
          },
          "metadata": {
            "tags": []
          },
          "execution_count": 20
        }
      ]
    },
    {
      "metadata": {
        "id": "uS-Kbvyog7T2",
        "colab_type": "code",
        "colab": {}
      },
      "cell_type": "code",
      "source": [
        "rg_pick = rg.search(list(zip(df['pickup_latitude'], df['pickup_longitude'])))\n",
        "rg_drop = rg.search(list(zip(df['dropoff_latitude'], df['dropoff_longitude'])))\n"
      ],
      "execution_count": 0,
      "outputs": []
    },
    {
      "metadata": {
        "id": "3swpqphpiPK2",
        "colab_type": "code",
        "colab": {}
      },
      "cell_type": "code",
      "source": [
        "pick, drop = ([] for i in range(2))\n",
        "[pick.append(p['name']) for p in rg_pick]\n",
        "[drop.append(d['name']) for d in rg_drop]\n",
        "df['pickup_district'] = pick\n",
        "df['dropoff_district'] = drop"
      ],
      "execution_count": 0,
      "outputs": []
    },
    {
      "metadata": {
        "id": "SzsN3o0NIg52",
        "colab_type": "text"
      },
      "cell_type": "markdown",
      "source": [
        "## Top 10 Pickup Districts"
      ]
    },
    {
      "metadata": {
        "id": "79zC1QcDmwLt",
        "colab_type": "code",
        "outputId": "490c891c-8abe-4be7-d9db-846cbdfe7e41",
        "colab": {
          "base_uri": "https://localhost:8080/",
          "height": 204
        }
      },
      "cell_type": "code",
      "source": [
        "df['pickup_district'].value_counts().head(10)"
      ],
      "execution_count": 0,
      "outputs": [
        {
          "output_type": "execute_result",
          "data": {
            "text/plain": [
              "Manhattan           45329\n",
              "New York City       34625\n",
              "Long Island City    17787\n",
              "Weehawken           11334\n",
              "The Bronx            2777\n",
              "Inwood               2032\n",
              "Hoboken              1238\n",
              "Guttenberg            944\n",
              "Edgewater             836\n",
              "Jamaica               547\n",
              "Name: pickup_district, dtype: int64"
            ]
          },
          "metadata": {
            "tags": []
          },
          "execution_count": 32
        }
      ]
    },
    {
      "metadata": {
        "id": "4TXmqExiIoX6",
        "colab_type": "text"
      },
      "cell_type": "markdown",
      "source": [
        "## Top 10 Dropoff Districts"
      ]
    },
    {
      "metadata": {
        "id": "Cs-LHml_IoGG",
        "colab_type": "code",
        "outputId": "2d516fe0-03de-4efc-8558-95d4b8a7e968",
        "colab": {
          "base_uri": "https://localhost:8080/",
          "height": 204
        }
      },
      "cell_type": "code",
      "source": [
        "df['dropoff_district'].value_counts().head(10)"
      ],
      "execution_count": 0,
      "outputs": [
        {
          "output_type": "execute_result",
          "data": {
            "text/plain": [
              "Manhattan           44478\n",
              "New York City       31082\n",
              "Long Island City    19919\n",
              "Weehawken           10621\n",
              "Brooklyn             2059\n",
              "Inwood               1741\n",
              "The Bronx            1696\n",
              "Edgewater            1462\n",
              "Hoboken              1414\n",
              "Guttenberg           1157\n",
              "Name: dropoff_district, dtype: int64"
            ]
          },
          "metadata": {
            "tags": []
          },
          "execution_count": 146
        }
      ]
    },
    {
      "metadata": {
        "id": "ujp144EUuqNw",
        "colab_type": "code",
        "colab": {}
      },
      "cell_type": "code",
      "source": [
        "distances = []\n",
        "for i in range(len(rg_pick)):\n",
        "  p1 = rg_pick[i]\n",
        "  x1, y1 = p1['lat'], p1['lon']\n",
        "  pick = (x1, y1)\n",
        "  p2 = rg_drop[i]\n",
        "  x2, y2 = p2['lat'], p1['lon']\n",
        "  drop = (x2, y2)\n",
        "  distances.append(geodesic(pick, drop).kilometers)"
      ],
      "execution_count": 0,
      "outputs": []
    },
    {
      "metadata": {
        "id": "s83UObyy9Bzm",
        "colab_type": "code",
        "outputId": "e1bef617-ccb6-4cec-d21b-d8b2a7d95ef3",
        "colab": {
          "base_uri": "https://localhost:8080/",
          "height": 549
        }
      },
      "cell_type": "code",
      "source": [
        "df['distance'] = distances\n",
        "df['npickup_datetime'] = pd.to_datetime(df['pickup_datetime'])\n",
        "df.head(10)"
      ],
      "execution_count": 0,
      "outputs": [
        {
          "output_type": "execute_result",
          "data": {
            "text/html": [
              "<div>\n",
              "<style scoped>\n",
              "    .dataframe tbody tr th:only-of-type {\n",
              "        vertical-align: middle;\n",
              "    }\n",
              "\n",
              "    .dataframe tbody tr th {\n",
              "        vertical-align: top;\n",
              "    }\n",
              "\n",
              "    .dataframe thead th {\n",
              "        text-align: right;\n",
              "    }\n",
              "</style>\n",
              "<table border=\"1\" class=\"dataframe\">\n",
              "  <thead>\n",
              "    <tr style=\"text-align: right;\">\n",
              "      <th></th>\n",
              "      <th>id</th>\n",
              "      <th>vendor_id</th>\n",
              "      <th>pickup_datetime</th>\n",
              "      <th>dropoff_datetime</th>\n",
              "      <th>passenger_count</th>\n",
              "      <th>pickup_longitude</th>\n",
              "      <th>pickup_latitude</th>\n",
              "      <th>dropoff_longitude</th>\n",
              "      <th>dropoff_latitude</th>\n",
              "      <th>trip_duration</th>\n",
              "      <th>pickup_district</th>\n",
              "      <th>dropoff_district</th>\n",
              "      <th>distance</th>\n",
              "      <th>npickup_datetime</th>\n",
              "    </tr>\n",
              "  </thead>\n",
              "  <tbody>\n",
              "    <tr>\n",
              "      <th>0</th>\n",
              "      <td>id2875421</td>\n",
              "      <td>2</td>\n",
              "      <td>2016-03-14 17:24:55</td>\n",
              "      <td>2016-03-14 17:32:30</td>\n",
              "      <td>1</td>\n",
              "      <td>-73.982155</td>\n",
              "      <td>40.767937</td>\n",
              "      <td>-73.964630</td>\n",
              "      <td>40.765602</td>\n",
              "      <td>455</td>\n",
              "      <td>Manhattan</td>\n",
              "      <td>Manhattan</td>\n",
              "      <td>0.000000</td>\n",
              "      <td>2016-03-14 17:24:55</td>\n",
              "    </tr>\n",
              "    <tr>\n",
              "      <th>1</th>\n",
              "      <td>id0012891</td>\n",
              "      <td>2</td>\n",
              "      <td>2016-03-10 21:45:01</td>\n",
              "      <td>2016-03-10 22:05:26</td>\n",
              "      <td>1</td>\n",
              "      <td>-73.981049</td>\n",
              "      <td>40.744339</td>\n",
              "      <td>-73.973000</td>\n",
              "      <td>40.789989</td>\n",
              "      <td>1225</td>\n",
              "      <td>Long Island City</td>\n",
              "      <td>Manhattan</td>\n",
              "      <td>4.287615</td>\n",
              "      <td>2016-03-10 21:45:01</td>\n",
              "    </tr>\n",
              "    <tr>\n",
              "      <th>2</th>\n",
              "      <td>id3361153</td>\n",
              "      <td>1</td>\n",
              "      <td>2016-03-11 07:11:23</td>\n",
              "      <td>2016-03-11 07:20:09</td>\n",
              "      <td>1</td>\n",
              "      <td>-73.994560</td>\n",
              "      <td>40.750526</td>\n",
              "      <td>-73.978500</td>\n",
              "      <td>40.756191</td>\n",
              "      <td>526</td>\n",
              "      <td>Weehawken</td>\n",
              "      <td>Manhattan</td>\n",
              "      <td>1.541368</td>\n",
              "      <td>2016-03-11 07:11:23</td>\n",
              "    </tr>\n",
              "    <tr>\n",
              "      <th>3</th>\n",
              "      <td>id2129090</td>\n",
              "      <td>1</td>\n",
              "      <td>2016-03-14 14:05:39</td>\n",
              "      <td>2016-03-14 14:28:05</td>\n",
              "      <td>1</td>\n",
              "      <td>-73.975090</td>\n",
              "      <td>40.758766</td>\n",
              "      <td>-73.953201</td>\n",
              "      <td>40.765068</td>\n",
              "      <td>1346</td>\n",
              "      <td>Manhattan</td>\n",
              "      <td>Long Island City</td>\n",
              "      <td>4.287615</td>\n",
              "      <td>2016-03-14 14:05:39</td>\n",
              "    </tr>\n",
              "    <tr>\n",
              "      <th>4</th>\n",
              "      <td>id0256505</td>\n",
              "      <td>1</td>\n",
              "      <td>2016-03-14 15:04:38</td>\n",
              "      <td>2016-03-14 15:16:13</td>\n",
              "      <td>1</td>\n",
              "      <td>-73.994484</td>\n",
              "      <td>40.745087</td>\n",
              "      <td>-73.998993</td>\n",
              "      <td>40.722710</td>\n",
              "      <td>695</td>\n",
              "      <td>New York City</td>\n",
              "      <td>New York City</td>\n",
              "      <td>0.000000</td>\n",
              "      <td>2016-03-14 15:04:38</td>\n",
              "    </tr>\n",
              "    <tr>\n",
              "      <th>5</th>\n",
              "      <td>id0970832</td>\n",
              "      <td>1</td>\n",
              "      <td>2016-03-12 20:39:39</td>\n",
              "      <td>2016-03-12 21:05:40</td>\n",
              "      <td>1</td>\n",
              "      <td>-74.008247</td>\n",
              "      <td>40.747353</td>\n",
              "      <td>-73.979446</td>\n",
              "      <td>40.718750</td>\n",
              "      <td>1561</td>\n",
              "      <td>Hoboken</td>\n",
              "      <td>New York City</td>\n",
              "      <td>3.300367</td>\n",
              "      <td>2016-03-12 20:39:39</td>\n",
              "    </tr>\n",
              "    <tr>\n",
              "      <th>6</th>\n",
              "      <td>id2049424</td>\n",
              "      <td>2</td>\n",
              "      <td>2016-03-02 20:15:07</td>\n",
              "      <td>2016-03-02 20:37:43</td>\n",
              "      <td>1</td>\n",
              "      <td>-73.963890</td>\n",
              "      <td>40.773651</td>\n",
              "      <td>-74.005112</td>\n",
              "      <td>40.751492</td>\n",
              "      <td>1356</td>\n",
              "      <td>Manhattan</td>\n",
              "      <td>Weehawken</td>\n",
              "      <td>1.541368</td>\n",
              "      <td>2016-03-02 20:15:07</td>\n",
              "    </tr>\n",
              "    <tr>\n",
              "      <th>7</th>\n",
              "      <td>id0038484</td>\n",
              "      <td>2</td>\n",
              "      <td>2016-03-09 13:41:11</td>\n",
              "      <td>2016-03-09 13:53:27</td>\n",
              "      <td>2</td>\n",
              "      <td>-73.972855</td>\n",
              "      <td>40.764400</td>\n",
              "      <td>-73.971809</td>\n",
              "      <td>40.757889</td>\n",
              "      <td>736</td>\n",
              "      <td>Manhattan</td>\n",
              "      <td>Manhattan</td>\n",
              "      <td>0.000000</td>\n",
              "      <td>2016-03-09 13:41:11</td>\n",
              "    </tr>\n",
              "    <tr>\n",
              "      <th>8</th>\n",
              "      <td>id3092788</td>\n",
              "      <td>2</td>\n",
              "      <td>2016-03-03 22:01:32</td>\n",
              "      <td>2016-03-03 22:17:44</td>\n",
              "      <td>2</td>\n",
              "      <td>-73.984772</td>\n",
              "      <td>40.710571</td>\n",
              "      <td>-73.989410</td>\n",
              "      <td>40.730148</td>\n",
              "      <td>972</td>\n",
              "      <td>New York City</td>\n",
              "      <td>New York City</td>\n",
              "      <td>0.000000</td>\n",
              "      <td>2016-03-03 22:01:32</td>\n",
              "    </tr>\n",
              "    <tr>\n",
              "      <th>9</th>\n",
              "      <td>id3863815</td>\n",
              "      <td>2</td>\n",
              "      <td>2016-03-14 04:24:36</td>\n",
              "      <td>2016-03-14 04:37:11</td>\n",
              "      <td>3</td>\n",
              "      <td>-73.944359</td>\n",
              "      <td>40.714489</td>\n",
              "      <td>-73.910530</td>\n",
              "      <td>40.709492</td>\n",
              "      <td>755</td>\n",
              "      <td>Long Island City</td>\n",
              "      <td>East New York</td>\n",
              "      <td>8.667314</td>\n",
              "      <td>2016-03-14 04:24:36</td>\n",
              "    </tr>\n",
              "  </tbody>\n",
              "</table>\n",
              "</div>"
            ],
            "text/plain": [
              "          id  vendor_id      pickup_datetime     dropoff_datetime  \\\n",
              "0  id2875421          2  2016-03-14 17:24:55  2016-03-14 17:32:30   \n",
              "1  id0012891          2  2016-03-10 21:45:01  2016-03-10 22:05:26   \n",
              "2  id3361153          1  2016-03-11 07:11:23  2016-03-11 07:20:09   \n",
              "3  id2129090          1  2016-03-14 14:05:39  2016-03-14 14:28:05   \n",
              "4  id0256505          1  2016-03-14 15:04:38  2016-03-14 15:16:13   \n",
              "5  id0970832          1  2016-03-12 20:39:39  2016-03-12 21:05:40   \n",
              "6  id2049424          2  2016-03-02 20:15:07  2016-03-02 20:37:43   \n",
              "7  id0038484          2  2016-03-09 13:41:11  2016-03-09 13:53:27   \n",
              "8  id3092788          2  2016-03-03 22:01:32  2016-03-03 22:17:44   \n",
              "9  id3863815          2  2016-03-14 04:24:36  2016-03-14 04:37:11   \n",
              "\n",
              "   passenger_count  pickup_longitude  pickup_latitude  dropoff_longitude  \\\n",
              "0                1        -73.982155        40.767937         -73.964630   \n",
              "1                1        -73.981049        40.744339         -73.973000   \n",
              "2                1        -73.994560        40.750526         -73.978500   \n",
              "3                1        -73.975090        40.758766         -73.953201   \n",
              "4                1        -73.994484        40.745087         -73.998993   \n",
              "5                1        -74.008247        40.747353         -73.979446   \n",
              "6                1        -73.963890        40.773651         -74.005112   \n",
              "7                2        -73.972855        40.764400         -73.971809   \n",
              "8                2        -73.984772        40.710571         -73.989410   \n",
              "9                3        -73.944359        40.714489         -73.910530   \n",
              "\n",
              "   dropoff_latitude  trip_duration   pickup_district  dropoff_district  \\\n",
              "0         40.765602            455         Manhattan         Manhattan   \n",
              "1         40.789989           1225  Long Island City         Manhattan   \n",
              "2         40.756191            526         Weehawken         Manhattan   \n",
              "3         40.765068           1346         Manhattan  Long Island City   \n",
              "4         40.722710            695     New York City     New York City   \n",
              "5         40.718750           1561           Hoboken     New York City   \n",
              "6         40.751492           1356         Manhattan         Weehawken   \n",
              "7         40.757889            736         Manhattan         Manhattan   \n",
              "8         40.730148            972     New York City     New York City   \n",
              "9         40.709492            755  Long Island City     East New York   \n",
              "\n",
              "   distance    npickup_datetime  \n",
              "0  0.000000 2016-03-14 17:24:55  \n",
              "1  4.287615 2016-03-10 21:45:01  \n",
              "2  1.541368 2016-03-11 07:11:23  \n",
              "3  4.287615 2016-03-14 14:05:39  \n",
              "4  0.000000 2016-03-14 15:04:38  \n",
              "5  3.300367 2016-03-12 20:39:39  \n",
              "6  1.541368 2016-03-02 20:15:07  \n",
              "7  0.000000 2016-03-09 13:41:11  \n",
              "8  0.000000 2016-03-03 22:01:32  \n",
              "9  8.667314 2016-03-14 04:24:36  "
            ]
          },
          "metadata": {
            "tags": []
          },
          "execution_count": 118
        }
      ]
    },
    {
      "metadata": {
        "id": "5uKdDo6R8Kls",
        "colab_type": "code",
        "colab": {}
      },
      "cell_type": "code",
      "source": [
        "print(distances[0:20])"
      ],
      "execution_count": 0,
      "outputs": []
    },
    {
      "metadata": {
        "id": "8MJtmD8A9-6u",
        "colab_type": "code",
        "colab": {}
      },
      "cell_type": "code",
      "source": [
        "def convert_time(row):\n",
        "    h = row['npickup_datetime'].hour\n",
        "    \n",
        "    if 7 <= h and h < 9:\n",
        "        return \"rush hour morning\"\n",
        "    elif 9 <= h and h < 16:\n",
        "        return \"afternoon\"\n",
        "    elif 16 <= h and h < 18:\n",
        "        return \"rush hour evening\"\n",
        "    elif 18 <= h and h < 23:\n",
        "        return \"evening\"\n",
        "    else:\n",
        "        return \"late_night\""
      ],
      "execution_count": 0,
      "outputs": []
    },
    {
      "metadata": {
        "id": "OUt1V9hNBoUX",
        "colab_type": "code",
        "colab": {}
      },
      "cell_type": "code",
      "source": [
        "df['time_of_day'] = df.apply(convert_time, axis=1)"
      ],
      "execution_count": 0,
      "outputs": []
    },
    {
      "metadata": {
        "id": "jPlZoOf1CCYP",
        "colab_type": "code",
        "outputId": "8a1fde05-1a65-4557-8cc2-d1ef5267570d",
        "colab": {
          "base_uri": "https://localhost:8080/",
          "height": 549
        }
      },
      "cell_type": "code",
      "source": [
        "df.head(10)"
      ],
      "execution_count": 0,
      "outputs": [
        {
          "output_type": "execute_result",
          "data": {
            "text/html": [
              "<div>\n",
              "<style scoped>\n",
              "    .dataframe tbody tr th:only-of-type {\n",
              "        vertical-align: middle;\n",
              "    }\n",
              "\n",
              "    .dataframe tbody tr th {\n",
              "        vertical-align: top;\n",
              "    }\n",
              "\n",
              "    .dataframe thead th {\n",
              "        text-align: right;\n",
              "    }\n",
              "</style>\n",
              "<table border=\"1\" class=\"dataframe\">\n",
              "  <thead>\n",
              "    <tr style=\"text-align: right;\">\n",
              "      <th></th>\n",
              "      <th>id</th>\n",
              "      <th>vendor_id</th>\n",
              "      <th>pickup_datetime</th>\n",
              "      <th>dropoff_datetime</th>\n",
              "      <th>passenger_count</th>\n",
              "      <th>pickup_longitude</th>\n",
              "      <th>pickup_latitude</th>\n",
              "      <th>dropoff_longitude</th>\n",
              "      <th>dropoff_latitude</th>\n",
              "      <th>trip_duration</th>\n",
              "      <th>pickup_district</th>\n",
              "      <th>dropoff_district</th>\n",
              "      <th>distance</th>\n",
              "      <th>npickup_datetime</th>\n",
              "      <th>time_of_day</th>\n",
              "    </tr>\n",
              "  </thead>\n",
              "  <tbody>\n",
              "    <tr>\n",
              "      <th>0</th>\n",
              "      <td>id2875421</td>\n",
              "      <td>2</td>\n",
              "      <td>2016-03-14 17:24:55</td>\n",
              "      <td>2016-03-14 17:32:30</td>\n",
              "      <td>1</td>\n",
              "      <td>-73.982155</td>\n",
              "      <td>40.767937</td>\n",
              "      <td>-73.964630</td>\n",
              "      <td>40.765602</td>\n",
              "      <td>455</td>\n",
              "      <td>Manhattan</td>\n",
              "      <td>Manhattan</td>\n",
              "      <td>0.000000</td>\n",
              "      <td>2016-03-14 17:24:55</td>\n",
              "      <td>rush hour evening</td>\n",
              "    </tr>\n",
              "    <tr>\n",
              "      <th>1</th>\n",
              "      <td>id0012891</td>\n",
              "      <td>2</td>\n",
              "      <td>2016-03-10 21:45:01</td>\n",
              "      <td>2016-03-10 22:05:26</td>\n",
              "      <td>1</td>\n",
              "      <td>-73.981049</td>\n",
              "      <td>40.744339</td>\n",
              "      <td>-73.973000</td>\n",
              "      <td>40.789989</td>\n",
              "      <td>1225</td>\n",
              "      <td>Long Island City</td>\n",
              "      <td>Manhattan</td>\n",
              "      <td>4.287615</td>\n",
              "      <td>2016-03-10 21:45:01</td>\n",
              "      <td>evening</td>\n",
              "    </tr>\n",
              "    <tr>\n",
              "      <th>2</th>\n",
              "      <td>id3361153</td>\n",
              "      <td>1</td>\n",
              "      <td>2016-03-11 07:11:23</td>\n",
              "      <td>2016-03-11 07:20:09</td>\n",
              "      <td>1</td>\n",
              "      <td>-73.994560</td>\n",
              "      <td>40.750526</td>\n",
              "      <td>-73.978500</td>\n",
              "      <td>40.756191</td>\n",
              "      <td>526</td>\n",
              "      <td>Weehawken</td>\n",
              "      <td>Manhattan</td>\n",
              "      <td>1.541368</td>\n",
              "      <td>2016-03-11 07:11:23</td>\n",
              "      <td>rush hour morning</td>\n",
              "    </tr>\n",
              "    <tr>\n",
              "      <th>3</th>\n",
              "      <td>id2129090</td>\n",
              "      <td>1</td>\n",
              "      <td>2016-03-14 14:05:39</td>\n",
              "      <td>2016-03-14 14:28:05</td>\n",
              "      <td>1</td>\n",
              "      <td>-73.975090</td>\n",
              "      <td>40.758766</td>\n",
              "      <td>-73.953201</td>\n",
              "      <td>40.765068</td>\n",
              "      <td>1346</td>\n",
              "      <td>Manhattan</td>\n",
              "      <td>Long Island City</td>\n",
              "      <td>4.287615</td>\n",
              "      <td>2016-03-14 14:05:39</td>\n",
              "      <td>afternoon</td>\n",
              "    </tr>\n",
              "    <tr>\n",
              "      <th>4</th>\n",
              "      <td>id0256505</td>\n",
              "      <td>1</td>\n",
              "      <td>2016-03-14 15:04:38</td>\n",
              "      <td>2016-03-14 15:16:13</td>\n",
              "      <td>1</td>\n",
              "      <td>-73.994484</td>\n",
              "      <td>40.745087</td>\n",
              "      <td>-73.998993</td>\n",
              "      <td>40.722710</td>\n",
              "      <td>695</td>\n",
              "      <td>New York City</td>\n",
              "      <td>New York City</td>\n",
              "      <td>0.000000</td>\n",
              "      <td>2016-03-14 15:04:38</td>\n",
              "      <td>afternoon</td>\n",
              "    </tr>\n",
              "    <tr>\n",
              "      <th>5</th>\n",
              "      <td>id0970832</td>\n",
              "      <td>1</td>\n",
              "      <td>2016-03-12 20:39:39</td>\n",
              "      <td>2016-03-12 21:05:40</td>\n",
              "      <td>1</td>\n",
              "      <td>-74.008247</td>\n",
              "      <td>40.747353</td>\n",
              "      <td>-73.979446</td>\n",
              "      <td>40.718750</td>\n",
              "      <td>1561</td>\n",
              "      <td>Hoboken</td>\n",
              "      <td>New York City</td>\n",
              "      <td>3.300367</td>\n",
              "      <td>2016-03-12 20:39:39</td>\n",
              "      <td>evening</td>\n",
              "    </tr>\n",
              "    <tr>\n",
              "      <th>6</th>\n",
              "      <td>id2049424</td>\n",
              "      <td>2</td>\n",
              "      <td>2016-03-02 20:15:07</td>\n",
              "      <td>2016-03-02 20:37:43</td>\n",
              "      <td>1</td>\n",
              "      <td>-73.963890</td>\n",
              "      <td>40.773651</td>\n",
              "      <td>-74.005112</td>\n",
              "      <td>40.751492</td>\n",
              "      <td>1356</td>\n",
              "      <td>Manhattan</td>\n",
              "      <td>Weehawken</td>\n",
              "      <td>1.541368</td>\n",
              "      <td>2016-03-02 20:15:07</td>\n",
              "      <td>evening</td>\n",
              "    </tr>\n",
              "    <tr>\n",
              "      <th>7</th>\n",
              "      <td>id0038484</td>\n",
              "      <td>2</td>\n",
              "      <td>2016-03-09 13:41:11</td>\n",
              "      <td>2016-03-09 13:53:27</td>\n",
              "      <td>2</td>\n",
              "      <td>-73.972855</td>\n",
              "      <td>40.764400</td>\n",
              "      <td>-73.971809</td>\n",
              "      <td>40.757889</td>\n",
              "      <td>736</td>\n",
              "      <td>Manhattan</td>\n",
              "      <td>Manhattan</td>\n",
              "      <td>0.000000</td>\n",
              "      <td>2016-03-09 13:41:11</td>\n",
              "      <td>afternoon</td>\n",
              "    </tr>\n",
              "    <tr>\n",
              "      <th>8</th>\n",
              "      <td>id3092788</td>\n",
              "      <td>2</td>\n",
              "      <td>2016-03-03 22:01:32</td>\n",
              "      <td>2016-03-03 22:17:44</td>\n",
              "      <td>2</td>\n",
              "      <td>-73.984772</td>\n",
              "      <td>40.710571</td>\n",
              "      <td>-73.989410</td>\n",
              "      <td>40.730148</td>\n",
              "      <td>972</td>\n",
              "      <td>New York City</td>\n",
              "      <td>New York City</td>\n",
              "      <td>0.000000</td>\n",
              "      <td>2016-03-03 22:01:32</td>\n",
              "      <td>evening</td>\n",
              "    </tr>\n",
              "    <tr>\n",
              "      <th>9</th>\n",
              "      <td>id3863815</td>\n",
              "      <td>2</td>\n",
              "      <td>2016-03-14 04:24:36</td>\n",
              "      <td>2016-03-14 04:37:11</td>\n",
              "      <td>3</td>\n",
              "      <td>-73.944359</td>\n",
              "      <td>40.714489</td>\n",
              "      <td>-73.910530</td>\n",
              "      <td>40.709492</td>\n",
              "      <td>755</td>\n",
              "      <td>Long Island City</td>\n",
              "      <td>East New York</td>\n",
              "      <td>8.667314</td>\n",
              "      <td>2016-03-14 04:24:36</td>\n",
              "      <td>late_night</td>\n",
              "    </tr>\n",
              "  </tbody>\n",
              "</table>\n",
              "</div>"
            ],
            "text/plain": [
              "          id  vendor_id      pickup_datetime     dropoff_datetime  \\\n",
              "0  id2875421          2  2016-03-14 17:24:55  2016-03-14 17:32:30   \n",
              "1  id0012891          2  2016-03-10 21:45:01  2016-03-10 22:05:26   \n",
              "2  id3361153          1  2016-03-11 07:11:23  2016-03-11 07:20:09   \n",
              "3  id2129090          1  2016-03-14 14:05:39  2016-03-14 14:28:05   \n",
              "4  id0256505          1  2016-03-14 15:04:38  2016-03-14 15:16:13   \n",
              "5  id0970832          1  2016-03-12 20:39:39  2016-03-12 21:05:40   \n",
              "6  id2049424          2  2016-03-02 20:15:07  2016-03-02 20:37:43   \n",
              "7  id0038484          2  2016-03-09 13:41:11  2016-03-09 13:53:27   \n",
              "8  id3092788          2  2016-03-03 22:01:32  2016-03-03 22:17:44   \n",
              "9  id3863815          2  2016-03-14 04:24:36  2016-03-14 04:37:11   \n",
              "\n",
              "   passenger_count  pickup_longitude  pickup_latitude  dropoff_longitude  \\\n",
              "0                1        -73.982155        40.767937         -73.964630   \n",
              "1                1        -73.981049        40.744339         -73.973000   \n",
              "2                1        -73.994560        40.750526         -73.978500   \n",
              "3                1        -73.975090        40.758766         -73.953201   \n",
              "4                1        -73.994484        40.745087         -73.998993   \n",
              "5                1        -74.008247        40.747353         -73.979446   \n",
              "6                1        -73.963890        40.773651         -74.005112   \n",
              "7                2        -73.972855        40.764400         -73.971809   \n",
              "8                2        -73.984772        40.710571         -73.989410   \n",
              "9                3        -73.944359        40.714489         -73.910530   \n",
              "\n",
              "   dropoff_latitude  trip_duration   pickup_district  dropoff_district  \\\n",
              "0         40.765602            455         Manhattan         Manhattan   \n",
              "1         40.789989           1225  Long Island City         Manhattan   \n",
              "2         40.756191            526         Weehawken         Manhattan   \n",
              "3         40.765068           1346         Manhattan  Long Island City   \n",
              "4         40.722710            695     New York City     New York City   \n",
              "5         40.718750           1561           Hoboken     New York City   \n",
              "6         40.751492           1356         Manhattan         Weehawken   \n",
              "7         40.757889            736         Manhattan         Manhattan   \n",
              "8         40.730148            972     New York City     New York City   \n",
              "9         40.709492            755  Long Island City     East New York   \n",
              "\n",
              "   distance    npickup_datetime        time_of_day  \n",
              "0  0.000000 2016-03-14 17:24:55  rush hour evening  \n",
              "1  4.287615 2016-03-10 21:45:01            evening  \n",
              "2  1.541368 2016-03-11 07:11:23  rush hour morning  \n",
              "3  4.287615 2016-03-14 14:05:39          afternoon  \n",
              "4  0.000000 2016-03-14 15:04:38          afternoon  \n",
              "5  3.300367 2016-03-12 20:39:39            evening  \n",
              "6  1.541368 2016-03-02 20:15:07            evening  \n",
              "7  0.000000 2016-03-09 13:41:11          afternoon  \n",
              "8  0.000000 2016-03-03 22:01:32            evening  \n",
              "9  8.667314 2016-03-14 04:24:36         late_night  "
            ]
          },
          "metadata": {
            "tags": []
          },
          "execution_count": 125
        }
      ]
    },
    {
      "metadata": {
        "id": "f2zn71vVCDds",
        "colab_type": "code",
        "outputId": "39f56046-510c-4cc2-dca7-2ddcc9e35a8c",
        "colab": {
          "base_uri": "https://localhost:8080/",
          "height": 136
        }
      },
      "cell_type": "code",
      "source": [
        "df_steam = df.groupby(by=\"time_of_day\").mean()"
      ],
      "execution_count": 0,
      "outputs": [
        {
          "output_type": "execute_result",
          "data": {
            "text/plain": [
              "time_of_day\n",
              "afternoon            2.929196\n",
              "evening              3.214404\n",
              "late_night           3.771974\n",
              "rush hour evening    3.059598\n",
              "rush hour morning    2.871136\n",
              "Name: distance, dtype: float64"
            ]
          },
          "metadata": {
            "tags": []
          },
          "execution_count": 126
        }
      ]
    },
    {
      "metadata": {
        "id": "cI_Gu7UXDknO",
        "colab_type": "code",
        "outputId": "417b9867-4867-4131-bdb2-5eb3634b2f8d",
        "colab": {
          "base_uri": "https://localhost:8080/",
          "height": 379
        }
      },
      "cell_type": "code",
      "source": [
        "df_steam['distance'].plot(kind=\"barh\", title=\"Distance in kilometers\")"
      ],
      "execution_count": 0,
      "outputs": [
        {
          "output_type": "execute_result",
          "data": {
            "text/plain": [
              "<matplotlib.axes._subplots.AxesSubplot at 0x7f5ec187ab38>"
            ]
          },
          "metadata": {
            "tags": []
          },
          "execution_count": 142
        },
        {
          "output_type": "display_data",
          "data": {
            "image/png": "[encoded data removed]",
            "text/plain": [
              "<Figure size 576x396 with 1 Axes>"
            ]
          },
          "metadata": {
            "tags": []
          }
        }
      ]
    },
    {
      "metadata": {
        "id": "UgzZoP2fFAza",
        "colab_type": "code",
        "outputId": "24faf870-fea1-4d0d-ac41-7bd0ff8326f1",
        "colab": {
          "base_uri": "https://localhost:8080/",
          "height": 364
        }
      },
      "cell_type": "code",
      "source": [
        "df_steam['trip_duration'].plot(kind=\"barh\")"
      ],
      "execution_count": 0,
      "outputs": [
        {
          "output_type": "execute_result",
          "data": {
            "text/plain": [
              "<matplotlib.axes._subplots.AxesSubplot at 0x7f5ec1a26518>"
            ]
          },
          "metadata": {
            "tags": []
          },
          "execution_count": 140
        },
        {
          "output_type": "display_data",
          "data": {
            "image/png": "[encoded data removed]",
            "text/plain": [
              "<Figure size 576x396 with 1 Axes>"
            ]
          },
          "metadata": {
            "tags": []
          }
        }
      ]
    },
    {
      "metadata": {
        "id": "pnQi-IALFdqR",
        "colab_type": "text"
      },
      "cell_type": "markdown",
      "source": [
        "---\n",
        "#Hypothesis Testing"
      ]
    },
    {
      "metadata": {
        "id": "2LRs09gDF-ZW",
        "colab_type": "text"
      },
      "cell_type": "markdown",
      "source": [
        "\n",
        "\n",
        "1.   Does passenger group size affect the distance?\n",
        " *   Null hypothesis: passenger group size has no effect on the distance.\n",
        " *   Apply a suitable statistical test and show the results.\n"
      ]
    },
    {
      "metadata": {
        "id": "vfJ2f2MCMhtb",
        "colab_type": "code",
        "colab": {}
      },
      "cell_type": "code",
      "source": [
        "from scipy import stats"
      ],
      "execution_count": 0,
      "outputs": []
    },
    {
      "metadata": {
        "id": "XRJcVtEmG8Ev",
        "colab_type": "code",
        "outputId": "24d2a8bc-620d-4eb2-fc57-5925782d415b",
        "colab": {
          "base_uri": "https://localhost:8080/",
          "height": 34
        }
      },
      "cell_type": "code",
      "source": [
        "x, y = df[df['passenger_count']==1]['distance'], df[df['passenger_count']>=2]['distance']\n",
        "stats.ttest_ind(x, y, equal_var=False) # Equal Variance = False"
      ],
      "execution_count": 0,
      "outputs": [
        {
          "output_type": "execute_result",
          "data": {
            "text/plain": [
              "Ttest_indResult(statistic=-4.923988452238864, pvalue=8.501605194519019e-07)"
            ]
          },
          "metadata": {
            "tags": []
          },
          "execution_count": 168
        }
      ]
    },
    {
      "metadata": {
        "id": "ygzMIrXEHJPN",
        "colab_type": "code",
        "outputId": "18460f0a-b6e2-465c-fec3-3017ca6f03ce",
        "colab": {
          "base_uri": "https://localhost:8080/",
          "height": 34
        }
      },
      "cell_type": "code",
      "source": [
        "x, y = df[df['passenger_count']<=2]['distance'], df[df['passenger_count']>=3]['distance']\n",
        "stats.ttest_ind(x, y, equal_var=False) # Equal Variance = False"
      ],
      "execution_count": 0,
      "outputs": [
        {
          "output_type": "execute_result",
          "data": {
            "text/plain": [
              "Ttest_indResult(statistic=-1.0492638243873378, pvalue=0.29406755187084854)"
            ]
          },
          "metadata": {
            "tags": []
          },
          "execution_count": 156
        }
      ]
    },
    {
      "metadata": {
        "id": "yfYDOOKCHQCf",
        "colab_type": "code",
        "outputId": "2cbea4d8-496b-4d38-f6a9-a2887a374023",
        "colab": {
          "base_uri": "https://localhost:8080/",
          "height": 34
        }
      },
      "cell_type": "code",
      "source": [
        "x, y = df[df['passenger_count']<=3]['distance'], df[df['passenger_count']>=4]['distance']\n",
        "stats.ttest_ind(sample1, sample2, equal_var=False) # Equal Variance = False"
      ],
      "execution_count": 0,
      "outputs": [
        {
          "output_type": "execute_result",
          "data": {
            "text/plain": [
              "Ttest_indResult(statistic=-4.923988452238864, pvalue=8.501605194519019e-07)"
            ]
          },
          "metadata": {
            "tags": []
          },
          "execution_count": 157
        }
      ]
    },
    {
      "metadata": {
        "id": "Ow_qZUcKOk3h",
        "colab_type": "text"
      },
      "cell_type": "markdown",
      "source": [
        "*   **Since the pvalue is greater than 0.05 we can't reject the null hypothesis. Passenger group size has no effect on the distance.**\n",
        "\n"
      ]
    },
    {
      "metadata": {
        "id": "Ux2ojiQXPWr8",
        "colab_type": "text"
      },
      "cell_type": "markdown",
      "source": [
        "---\n",
        "2.   Do trip distances increase in weekends?\n",
        " *   Null hypothesis: The day of the week has no effect on the distance.\n",
        " *   Again, apply a suitable statistical test and show the results."
      ]
    },
    {
      "metadata": {
        "id": "r1mYsS8aPbYU",
        "colab_type": "code",
        "outputId": "338e80bd-0df7-4fb5-c843-d07acea10906",
        "colab": {
          "base_uri": "https://localhost:8080/",
          "height": 549
        }
      },
      "cell_type": "code",
      "source": [
        "df['day_name'] = df['npickup_datetime'].dt.weekday_name\n",
        "df.head(10)"
      ],
      "execution_count": 0,
      "outputs": [
        {
          "output_type": "execute_result",
          "data": {
            "text/html": [
              "<div>\n",
              "<style scoped>\n",
              "    .dataframe tbody tr th:only-of-type {\n",
              "        vertical-align: middle;\n",
              "    }\n",
              "\n",
              "    .dataframe tbody tr th {\n",
              "        vertical-align: top;\n",
              "    }\n",
              "\n",
              "    .dataframe thead th {\n",
              "        text-align: right;\n",
              "    }\n",
              "</style>\n",
              "<table border=\"1\" class=\"dataframe\">\n",
              "  <thead>\n",
              "    <tr style=\"text-align: right;\">\n",
              "      <th></th>\n",
              "      <th>id</th>\n",
              "      <th>vendor_id</th>\n",
              "      <th>pickup_datetime</th>\n",
              "      <th>dropoff_datetime</th>\n",
              "      <th>passenger_count</th>\n",
              "      <th>pickup_longitude</th>\n",
              "      <th>pickup_latitude</th>\n",
              "      <th>dropoff_longitude</th>\n",
              "      <th>dropoff_latitude</th>\n",
              "      <th>trip_duration</th>\n",
              "      <th>pickup_district</th>\n",
              "      <th>dropoff_district</th>\n",
              "      <th>distance</th>\n",
              "      <th>npickup_datetime</th>\n",
              "      <th>time_of_day</th>\n",
              "      <th>day_name</th>\n",
              "    </tr>\n",
              "  </thead>\n",
              "  <tbody>\n",
              "    <tr>\n",
              "      <th>0</th>\n",
              "      <td>id2875421</td>\n",
              "      <td>2</td>\n",
              "      <td>2016-03-14 17:24:55</td>\n",
              "      <td>2016-03-14 17:32:30</td>\n",
              "      <td>1</td>\n",
              "      <td>-73.982155</td>\n",
              "      <td>40.767937</td>\n",
              "      <td>-73.964630</td>\n",
              "      <td>40.765602</td>\n",
              "      <td>455</td>\n",
              "      <td>Manhattan</td>\n",
              "      <td>Manhattan</td>\n",
              "      <td>0.000000</td>\n",
              "      <td>2016-03-14 17:24:55</td>\n",
              "      <td>rush hour evening</td>\n",
              "      <td>Monday</td>\n",
              "    </tr>\n",
              "    <tr>\n",
              "      <th>1</th>\n",
              "      <td>id0012891</td>\n",
              "      <td>2</td>\n",
              "      <td>2016-03-10 21:45:01</td>\n",
              "      <td>2016-03-10 22:05:26</td>\n",
              "      <td>1</td>\n",
              "      <td>-73.981049</td>\n",
              "      <td>40.744339</td>\n",
              "      <td>-73.973000</td>\n",
              "      <td>40.789989</td>\n",
              "      <td>1225</td>\n",
              "      <td>Long Island City</td>\n",
              "      <td>Manhattan</td>\n",
              "      <td>4.287615</td>\n",
              "      <td>2016-03-10 21:45:01</td>\n",
              "      <td>evening</td>\n",
              "      <td>Thursday</td>\n",
              "    </tr>\n",
              "    <tr>\n",
              "      <th>2</th>\n",
              "      <td>id3361153</td>\n",
              "      <td>1</td>\n",
              "      <td>2016-03-11 07:11:23</td>\n",
              "      <td>2016-03-11 07:20:09</td>\n",
              "      <td>1</td>\n",
              "      <td>-73.994560</td>\n",
              "      <td>40.750526</td>\n",
              "      <td>-73.978500</td>\n",
              "      <td>40.756191</td>\n",
              "      <td>526</td>\n",
              "      <td>Weehawken</td>\n",
              "      <td>Manhattan</td>\n",
              "      <td>1.541368</td>\n",
              "      <td>2016-03-11 07:11:23</td>\n",
              "      <td>rush hour morning</td>\n",
              "      <td>Friday</td>\n",
              "    </tr>\n",
              "    <tr>\n",
              "      <th>3</th>\n",
              "      <td>id2129090</td>\n",
              "      <td>1</td>\n",
              "      <td>2016-03-14 14:05:39</td>\n",
              "      <td>2016-03-14 14:28:05</td>\n",
              "      <td>1</td>\n",
              "      <td>-73.975090</td>\n",
              "      <td>40.758766</td>\n",
              "      <td>-73.953201</td>\n",
              "      <td>40.765068</td>\n",
              "      <td>1346</td>\n",
              "      <td>Manhattan</td>\n",
              "      <td>Long Island City</td>\n",
              "      <td>4.287615</td>\n",
              "      <td>2016-03-14 14:05:39</td>\n",
              "      <td>afternoon</td>\n",
              "      <td>Monday</td>\n",
              "    </tr>\n",
              "    <tr>\n",
              "      <th>4</th>\n",
              "      <td>id0256505</td>\n",
              "      <td>1</td>\n",
              "      <td>2016-03-14 15:04:38</td>\n",
              "      <td>2016-03-14 15:16:13</td>\n",
              "      <td>1</td>\n",
              "      <td>-73.994484</td>\n",
              "      <td>40.745087</td>\n",
              "      <td>-73.998993</td>\n",
              "      <td>40.722710</td>\n",
              "      <td>695</td>\n",
              "      <td>New York City</td>\n",
              "      <td>New York City</td>\n",
              "      <td>0.000000</td>\n",
              "      <td>2016-03-14 15:04:38</td>\n",
              "      <td>afternoon</td>\n",
              "      <td>Monday</td>\n",
              "    </tr>\n",
              "    <tr>\n",
              "      <th>5</th>\n",
              "      <td>id0970832</td>\n",
              "      <td>1</td>\n",
              "      <td>2016-03-12 20:39:39</td>\n",
              "      <td>2016-03-12 21:05:40</td>\n",
              "      <td>1</td>\n",
              "      <td>-74.008247</td>\n",
              "      <td>40.747353</td>\n",
              "      <td>-73.979446</td>\n",
              "      <td>40.718750</td>\n",
              "      <td>1561</td>\n",
              "      <td>Hoboken</td>\n",
              "      <td>New York City</td>\n",
              "      <td>3.300367</td>\n",
              "      <td>2016-03-12 20:39:39</td>\n",
              "      <td>evening</td>\n",
              "      <td>Saturday</td>\n",
              "    </tr>\n",
              "    <tr>\n",
              "      <th>6</th>\n",
              "      <td>id2049424</td>\n",
              "      <td>2</td>\n",
              "      <td>2016-03-02 20:15:07</td>\n",
              "      <td>2016-03-02 20:37:43</td>\n",
              "      <td>1</td>\n",
              "      <td>-73.963890</td>\n",
              "      <td>40.773651</td>\n",
              "      <td>-74.005112</td>\n",
              "      <td>40.751492</td>\n",
              "      <td>1356</td>\n",
              "      <td>Manhattan</td>\n",
              "      <td>Weehawken</td>\n",
              "      <td>1.541368</td>\n",
              "      <td>2016-03-02 20:15:07</td>\n",
              "      <td>evening</td>\n",
              "      <td>Wednesday</td>\n",
              "    </tr>\n",
              "    <tr>\n",
              "      <th>7</th>\n",
              "      <td>id0038484</td>\n",
              "      <td>2</td>\n",
              "      <td>2016-03-09 13:41:11</td>\n",
              "      <td>2016-03-09 13:53:27</td>\n",
              "      <td>2</td>\n",
              "      <td>-73.972855</td>\n",
              "      <td>40.764400</td>\n",
              "      <td>-73.971809</td>\n",
              "      <td>40.757889</td>\n",
              "      <td>736</td>\n",
              "      <td>Manhattan</td>\n",
              "      <td>Manhattan</td>\n",
              "      <td>0.000000</td>\n",
              "      <td>2016-03-09 13:41:11</td>\n",
              "      <td>afternoon</td>\n",
              "      <td>Wednesday</td>\n",
              "    </tr>\n",
              "    <tr>\n",
              "      <th>8</th>\n",
              "      <td>id3092788</td>\n",
              "      <td>2</td>\n",
              "      <td>2016-03-03 22:01:32</td>\n",
              "      <td>2016-03-03 22:17:44</td>\n",
              "      <td>2</td>\n",
              "      <td>-73.984772</td>\n",
              "      <td>40.710571</td>\n",
              "      <td>-73.989410</td>\n",
              "      <td>40.730148</td>\n",
              "      <td>972</td>\n",
              "      <td>New York City</td>\n",
              "      <td>New York City</td>\n",
              "      <td>0.000000</td>\n",
              "      <td>2016-03-03 22:01:32</td>\n",
              "      <td>evening</td>\n",
              "      <td>Thursday</td>\n",
              "    </tr>\n",
              "    <tr>\n",
              "      <th>9</th>\n",
              "      <td>id3863815</td>\n",
              "      <td>2</td>\n",
              "      <td>2016-03-14 04:24:36</td>\n",
              "      <td>2016-03-14 04:37:11</td>\n",
              "      <td>3</td>\n",
              "      <td>-73.944359</td>\n",
              "      <td>40.714489</td>\n",
              "      <td>-73.910530</td>\n",
              "      <td>40.709492</td>\n",
              "      <td>755</td>\n",
              "      <td>Long Island City</td>\n",
              "      <td>East New York</td>\n",
              "      <td>8.667314</td>\n",
              "      <td>2016-03-14 04:24:36</td>\n",
              "      <td>late_night</td>\n",
              "      <td>Monday</td>\n",
              "    </tr>\n",
              "  </tbody>\n",
              "</table>\n",
              "</div>"
            ],
            "text/plain": [
              "          id  vendor_id      pickup_datetime     dropoff_datetime  \\\n",
              "0  id2875421          2  2016-03-14 17:24:55  2016-03-14 17:32:30   \n",
              "1  id0012891          2  2016-03-10 21:45:01  2016-03-10 22:05:26   \n",
              "2  id3361153          1  2016-03-11 07:11:23  2016-03-11 07:20:09   \n",
              "3  id2129090          1  2016-03-14 14:05:39  2016-03-14 14:28:05   \n",
              "4  id0256505          1  2016-03-14 15:04:38  2016-03-14 15:16:13   \n",
              "5  id0970832          1  2016-03-12 20:39:39  2016-03-12 21:05:40   \n",
              "6  id2049424          2  2016-03-02 20:15:07  2016-03-02 20:37:43   \n",
              "7  id0038484          2  2016-03-09 13:41:11  2016-03-09 13:53:27   \n",
              "8  id3092788          2  2016-03-03 22:01:32  2016-03-03 22:17:44   \n",
              "9  id3863815          2  2016-03-14 04:24:36  2016-03-14 04:37:11   \n",
              "\n",
              "   passenger_count  pickup_longitude  pickup_latitude  dropoff_longitude  \\\n",
              "0                1        -73.982155        40.767937         -73.964630   \n",
              "1                1        -73.981049        40.744339         -73.973000   \n",
              "2                1        -73.994560        40.750526         -73.978500   \n",
              "3                1        -73.975090        40.758766         -73.953201   \n",
              "4                1        -73.994484        40.745087         -73.998993   \n",
              "5                1        -74.008247        40.747353         -73.979446   \n",
              "6                1        -73.963890        40.773651         -74.005112   \n",
              "7                2        -73.972855        40.764400         -73.971809   \n",
              "8                2        -73.984772        40.710571         -73.989410   \n",
              "9                3        -73.944359        40.714489         -73.910530   \n",
              "\n",
              "   dropoff_latitude  trip_duration   pickup_district  dropoff_district  \\\n",
              "0         40.765602            455         Manhattan         Manhattan   \n",
              "1         40.789989           1225  Long Island City         Manhattan   \n",
              "2         40.756191            526         Weehawken         Manhattan   \n",
              "3         40.765068           1346         Manhattan  Long Island City   \n",
              "4         40.722710            695     New York City     New York City   \n",
              "5         40.718750           1561           Hoboken     New York City   \n",
              "6         40.751492           1356         Manhattan         Weehawken   \n",
              "7         40.757889            736         Manhattan         Manhattan   \n",
              "8         40.730148            972     New York City     New York City   \n",
              "9         40.709492            755  Long Island City     East New York   \n",
              "\n",
              "   distance    npickup_datetime        time_of_day   day_name  \n",
              "0  0.000000 2016-03-14 17:24:55  rush hour evening     Monday  \n",
              "1  4.287615 2016-03-10 21:45:01            evening   Thursday  \n",
              "2  1.541368 2016-03-11 07:11:23  rush hour morning     Friday  \n",
              "3  4.287615 2016-03-14 14:05:39          afternoon     Monday  \n",
              "4  0.000000 2016-03-14 15:04:38          afternoon     Monday  \n",
              "5  3.300367 2016-03-12 20:39:39            evening   Saturday  \n",
              "6  1.541368 2016-03-02 20:15:07            evening  Wednesday  \n",
              "7  0.000000 2016-03-09 13:41:11          afternoon  Wednesday  \n",
              "8  0.000000 2016-03-03 22:01:32            evening   Thursday  \n",
              "9  8.667314 2016-03-14 04:24:36         late_night     Monday  "
            ]
          },
          "metadata": {
            "tags": []
          },
          "execution_count": 159
        }
      ]
    },
    {
      "metadata": {
        "id": "FW3pxCOjPwpX",
        "colab_type": "code",
        "colab": {}
      },
      "cell_type": "code",
      "source": [
        "weekdays = df[df['day_name'].isin(['Monday','Tuesday','Wednesday','Thursday','Friday'])][\"trip_duration\"]\n",
        "weekends = df[df['day_name'].isin(['Saturday','Sunday'])][\"trip_duration\"]"
      ],
      "execution_count": 0,
      "outputs": []
    },
    {
      "metadata": {
        "id": "pQXLiOD4QAoe",
        "colab_type": "code",
        "outputId": "9ee8cf70-1036-4172-9db2-d35983944262",
        "colab": {
          "base_uri": "https://localhost:8080/",
          "height": 34
        }
      },
      "cell_type": "code",
      "source": [
        "stats.ttest_ind(weekends, weekdays, equal_var=False) # Equal Variance = False"
      ],
      "execution_count": 0,
      "outputs": [
        {
          "output_type": "execute_result",
          "data": {
            "text/plain": [
              "Ttest_indResult(statistic=-2.361713377689828, pvalue=0.018193740149220382)"
            ]
          },
          "metadata": {
            "tags": []
          },
          "execution_count": 162
        }
      ]
    },
    {
      "metadata": {
        "id": "Ha45gIQWQYas",
        "colab_type": "code",
        "outputId": "7f07f140-3e67-47a6-d418-8e2652be1034",
        "colab": {
          "base_uri": "https://localhost:8080/",
          "height": 34
        }
      },
      "cell_type": "code",
      "source": [
        "print(\"Weekdays Mean: {:06.2f}\\tWeekends Mean: {:06.2f}\".format(weekdays.mean(), weekends.mean()))"
      ],
      "execution_count": 0,
      "outputs": [
        {
          "output_type": "stream",
          "text": [
            "Weekdays Mean: 941.23\tWeekends Mean: 893.42\n"
          ],
          "name": "stdout"
        }
      ]
    },
    {
      "metadata": {
        "id": "GbriiIJcQ3Xd",
        "colab_type": "text"
      },
      "cell_type": "markdown",
      "source": [
        "*   **Since the pvalue is less than 0.05 we can reject the null hypothesis. The day of the week has effect on the distance.**"
      ]
    }
  ]
}